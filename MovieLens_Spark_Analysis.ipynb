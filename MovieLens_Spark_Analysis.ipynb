{
 "cells": [
  {
   "cell_type": "markdown",
   "id": "c9e53ee2",
   "metadata": {},
   "source": [
    "## 1.Python libraries"
   ]
  },
  {
   "cell_type": "code",
   "execution_count": null,
   "id": "f51c2e6a",
   "metadata": {},
   "outputs": [],
   "source": [
    "from pyspark.sql import SparkSession\n",
    "from pyspark.sql import functions as F\n",
    "from pyspark.sql.types import StructType, StructField, IntegerType, StringType\n",
    "from pyspark.sql.functions import col, avg, count"
   ]
  },
  {
   "cell_type": "markdown",
   "id": "28463a74",
   "metadata": {},
   "source": [
    "### Initialize Spark and Cassandra session"
   ]
  },
  {
   "cell_type": "code",
   "execution_count": null,
   "id": "aab46c40",
   "metadata": {},
   "outputs": [
    {
     "name": "stdout",
     "output_type": "stream",
     "text": [
      "('Spark version:', u'2.3.0.2.6.5.0-292')\n"
     ]
    }
   ],
   "source": [
    "spark = SparkSession.builder\\\n",
    "    .appName(\"MovieLensAnalysis\")\\\n",
    "    .enableHiveSupport()\\\n",
    "    .config(\"spark.sql.shuffle.partitions\", 8)\\\n",
    "    .getOrCreate()\n",
    "\n",
    "print(\"Spark version:\", spark.version)"
   ]
  },
  {
   "cell_type": "code",
   "execution_count": null,
   "id": "e462f84f",
   "metadata": {},
   "outputs": [
    {
     "name": "stdout",
     "output_type": "stream",
     "text": [
      "+-------+---+------+----------+-----+\n",
      "|user_id|age|gender|occupation|  zip|\n",
      "+-------+---+------+----------+-----+\n",
      "|    496| 21|     F|   student|55414|\n",
      "|    250| 29|     M| executive|95110|\n",
      "|    675| 34|     M|     other|28814|\n",
      "|    175| 26|     F| scientist|21911|\n",
      "|    637| 30|     M|     other|74101|\n",
      "+-------+---+------+----------+-----+\n",
      "only showing top 5 rows\n",
      "\n"
     ]
    }
   ],
   "source": [
    "df = spark.read \\\n",
    "    .format(\"org.apache.spark.sql.cassandra\") \\\n",
    "    .options(table=\"users\", keyspace=\"movielens\") \\\n",
    "    .load()\n",
    "df.show(5)"
   ]
  },
  {
   "cell_type": "markdown",
   "id": "53bc94d1",
   "metadata": {},
   "source": [
    "## 2.Parse the u.user file into HDFS"
   ]
  },
  {
   "cell_type": "code",
   "execution_count": null,
   "id": "de12a3c3",
   "metadata": {},
   "outputs": [],
   "source": [
    "hdfs dfs -mkdir -p /user/maria_dev/ml-100k/"
   ]
  },
  {
   "cell_type": "code",
   "execution_count": null,
   "id": "ea76d79b",
   "metadata": {},
   "outputs": [
    {
     "name": "stdout",
     "output_type": "stream",
     "text": [
      "Found 7 items\n",
      "drwxr-xr-x   - zeppelin hdfs          0 2025-06-13 13:02 /user/maria_dev/ml-100k/\r\n",
      "-rw-r--r--   1 zeppelin hdfs    1979173 2025-06-18 07:47 /user/maria_dev/ml-100k/u.data\n",
      "-rw-r--r--   1 zeppelin hdfs    1979173 2025-06-13 13:14 /user/maria_dev/ml-100k/u.data\r\n",
      "-rw-r--r--   1 zeppelin hdfs     236344 2025-06-18 07:47 /user/maria_dev/ml-100k/u.item\n",
      "-rw-r--r--   1 zeppelin hdfs     236344 2025-06-13 13:14 /user/maria_dev/ml-100k/u.item\r\n",
      "-rw-r--r--   1 zeppelin hdfs      22628 2025-06-18 07:47 /user/maria_dev/ml-100k/u.user\n",
      "-rw-r--r--   1 zeppelin hdfs      22628 2025-06-13 13:14 /user/maria_dev/ml-100k/u.user\r\n"
     ]
    }
   ],
   "source": [
    "hdfs dfs -put -f /tmp/ml-100k/u.user /user/maria_dev/ml-100k/u.user\n",
    "hdfs dfs -put -f /tmp/ml-100k/u.item /user/maria_dev/ml-100k/u.item\n",
    "hdfs dfs -put -f /tmp/ml-100k/u.data /user/maria_dev/ml-100k/u.data\n",
    "hdfs dfs -ls /user/maria_dev/ml-100k/"
   ]
  },
  {
   "cell_type": "markdown",
   "id": "032eb7ca",
   "metadata": {},
   "source": [
    "## 3. Load, Read, and Create Resilient Distributed Dataset (RDD) Objects."
   ]
  },
  {
   "cell_type": "markdown",
   "id": "bc76a312",
   "metadata": {},
   "source": [
    "### Loading from HDFS as RDD"
   ]
  },
  {
   "cell_type": "code",
   "execution_count": null,
   "id": "36b8663c",
   "metadata": {},
   "outputs": [
    {
     "name": "stdout",
     "output_type": "stream",
     "text": [
      "[u'1|24|M|technician|85711', u'2|53|F|other|94043', u'3|23|M|writer|32067', u'4|24|M|technician|43537', u'5|33|F|other|15213']\n"
     ]
    }
   ],
   "source": [
    "user_rdd = sc.textFile(\"hdfs:///user/maria_dev/ml-100k/u.user\")\n",
    "user_rdd.take(5)"
   ]
  },
  {
   "cell_type": "code",
   "execution_count": null,
   "id": "adcc5f5e",
   "metadata": {},
   "outputs": [
    {
     "name": "stdout",
     "output_type": "stream",
     "text": [
      "[u'1|Toy Story (1995)|01-Jan-1995||http://us.imdb.com/M/title-exact?Toy%20Story%20(1995)|0|0|0|1|1|1|0|0|0|0|0|0|0|0|0|0|0|0|0', u'2|GoldenEye (1995)|01-Jan-1995||http://us.imdb.com/M/title-exact?GoldenEye%20(1995)|0|1|1|0|0|0|0|0|0|0|0|0|0|0|0|0|1|0|0', u'3|Four Rooms (1995)|01-Jan-1995||http://us.imdb.com/M/title-exact?Four%20Rooms%20(1995)|0|0|0|0|0|0|0|0|0|0|0|0|0|0|0|0|1|0|0', u'4|Get Shorty (1995)|01-Jan-1995||http://us.imdb.com/M/title-exact?Get%20Shorty%20(1995)|0|1|0|0|0|1|0|0|1|0|0|0|0|0|0|0|0|0|0', u'5|Copycat (1995)|01-Jan-1995||http://us.imdb.com/M/title-exact?Copycat%20(1995)|0|0|0|0|0|0|1|0|1|0|0|0|0|0|0|0|1|0|0']\n"
     ]
    }
   ],
   "source": [
    "item_rdd = sc.textFile(\"hdfs:///user/maria_dev/ml-100k/u.item\")\n",
    "item_rdd.take(5)"
   ]
  },
  {
   "cell_type": "code",
   "execution_count": null,
   "id": "48c6b865",
   "metadata": {},
   "outputs": [
    {
     "name": "stdout",
     "output_type": "stream",
     "text": [
      "[u'196\\t242\\t3\\t881250949', u'186\\t302\\t3\\t891717742', u'22\\t377\\t1\\t878887116', u'244\\t51\\t2\\t880606923', u'166\\t346\\t1\\t886397596']\n"
     ]
    }
   ],
   "source": [
    "data_rdd = sc.textFile(\"hdfs:///user/maria_dev/ml-100k/u.data\")\n",
    "data_rdd.take(5)"
   ]
  },
  {
   "cell_type": "markdown",
   "id": "580c2f99",
   "metadata": {},
   "source": [
    "### Parsing RDD"
   ]
  },
  {
   "cell_type": "code",
   "execution_count": null,
   "id": "b2aabb68",
   "metadata": {},
   "outputs": [
    {
     "name": "stdout",
     "output_type": "stream",
     "text": [
      "[[u'1', u'24', u'M', u'technician', u'85711'], [u'2', u'53', u'F', u'other', u'94043'], [u'3', u'23', u'M', u'writer', u'32067'], [u'4', u'24', u'M', u'technician', u'43537'], [u'5', u'33', u'F', u'other', u'15213']]\n"
     ]
    }
   ],
   "source": [
    "user_parsed_rdd = user_rdd.map(lambda line: line.split('|'))\n",
    "user_parsed_rdd.take(5)"
   ]
  },
  {
   "cell_type": "code",
   "execution_count": null,
   "id": "582b66b4",
   "metadata": {},
   "outputs": [
    {
     "name": "stdout",
     "output_type": "stream",
     "text": [
      "[[u'1', u'Toy Story (1995)', u'01-Jan-1995', u'', u'http://us.imdb.com/M/title-exact?Toy%20Story%20(1995)', u'0', u'0', u'0', u'1', u'1', u'1', u'0', u'0', u'0', u'0', u'0', u'0', u'0', u'0', u'0', u'0', u'0', u'0', u'0'], [u'2', u'GoldenEye (1995)', u'01-Jan-1995', u'', u'http://us.imdb.com/M/title-exact?GoldenEye%20(1995)', u'0', u'1', u'1', u'0', u'0', u'0', u'0', u'0', u'0', u'0', u'0', u'0', u'0', u'0', u'0', u'0', u'1', u'0', u'0'], [u'3', u'Four Rooms (1995)', u'01-Jan-1995', u'', u'http://us.imdb.com/M/title-exact?Four%20Rooms%20(1995)', u'0', u'0', u'0', u'0', u'0', u'0', u'0', u'0', u'0', u'0', u'0', u'0', u'0', u'0', u'0', u'0', u'1', u'0', u'0']]\n"
     ]
    }
   ],
   "source": [
    "item_parsed_rdd = item_rdd.map(lambda line: line.split('|'))\n",
    "item_parsed_rdd.take(3)"
   ]
  },
  {
   "cell_type": "code",
   "execution_count": null,
   "id": "f0699c2d",
   "metadata": {},
   "outputs": [
    {
     "name": "stdout",
     "output_type": "stream",
     "text": [
      "[[u'196', u'242', u'3', u'881250949'], [u'186', u'302', u'3', u'891717742'], [u'22', u'377', u'1', u'878887116'], [u'244', u'51', u'2', u'880606923'], [u'166', u'346', u'1', u'886397596']]\n"
     ]
    }
   ],
   "source": [
    "data_parsed_rdd = data_rdd.map(lambda line: line.split('\\t'))\n",
    "data_parsed_rdd.take(5)"
   ]
  },
  {
   "cell_type": "markdown",
   "id": "593ee542",
   "metadata": {},
   "source": [
    "### Convert to a structured dictionary"
   ]
  },
  {
   "cell_type": "code",
   "execution_count": null,
   "id": "b94b1cd3",
   "metadata": {},
   "outputs": [
    {
     "name": "stdout",
     "output_type": "stream",
     "text": [
      "[{'gender': u'M', 'age': 24, 'occupation': u'technician', 'user_id': 1, 'zip_code': u'85711'}, {'gender': u'F', 'age': 53, 'occupation': u'other', 'user_id': 2, 'zip_code': u'94043'}, {'gender': u'M', 'age': 23, 'occupation': u'writer', 'user_id': 3, 'zip_code': u'32067'}, {'gender': u'M', 'age': 24, 'occupation': u'technician', 'user_id': 4, 'zip_code': u'43537'}, {'gender': u'F', 'age': 33, 'occupation': u'other', 'user_id': 5, 'zip_code': u'15213'}]\n"
     ]
    }
   ],
   "source": [
    "user_dict_rdd = user_parsed_rdd.map(lambda arr: {\n",
    "    \"user_id\": int(arr[0]),\n",
    "    \"age\": int(arr[1]),\n",
    "    \"gender\": arr[2],\n",
    "    \"occupation\": arr[3],\n",
    "    \"zip_code\": arr[4]\n",
    "})\n",
    "\n",
    "user_dict_rdd.take(5)"
   ]
  },
  {
   "cell_type": "code",
   "execution_count": null,
   "id": "bc8beac2",
   "metadata": {},
   "outputs": [
    {
     "name": "stdout",
     "output_type": "stream",
     "text": [
      "[{'video_release_date': u'', 'genres': ['Animation', 'Children', 'Comedy'], 'movie_id': 1, 'release_date': u'01-Jan-1995', 'movie_title': u'Toy Story (1995)', 'IMDb_URL': u'http://us.imdb.com/M/title-exact?Toy%20Story%20(1995)'}]\n"
     ]
    }
   ],
   "source": [
    "genres = [\n",
    "    \"unknown\", \"Action\", \"Adventure\", \"Animation\", \"Children\", \"Comedy\", \"Crime\", \"Documentary\", \"Drama\",\n",
    "    \"Fantasy\", \"Film-Noir\", \"Horror\", \"Musical\", \"Mystery\", \"Romance\", \"Sci-Fi\", \"Thriller\", \"War\", \"Western\"]\n",
    "\n",
    "item_dict_rdd = item_parsed_rdd.map(lambda arr: {\n",
    "    \"movie_id\": int(arr[0]),\n",
    "    \"movie_title\": arr[1],\n",
    "    \"release_date\": arr[2],\n",
    "    \"video_release_date\": arr[3],\n",
    "    \"IMDb_URL\": arr[4],\n",
    "    \"genres\": [genres[i] for i in range(19) if int(arr[5+i]) == 1]\n",
    "})\n",
    "\n",
    "item_dict_rdd.take(1)"
   ]
  },
  {
   "cell_type": "code",
   "execution_count": null,
   "id": "4550f984",
   "metadata": {},
   "outputs": [
    {
     "name": "stdout",
     "output_type": "stream",
     "text": [
      "[{'rating': 3, 'user_id': 196, 'movie_id': 242, 'timestamp': 881250949}, {'rating': 3, 'user_id': 186, 'movie_id': 302, 'timestamp': 891717742}, {'rating': 1, 'user_id': 22, 'movie_id': 377, 'timestamp': 878887116}]\n"
     ]
    }
   ],
   "source": [
    "data_dict_rdd = data_parsed_rdd.map(lambda arr: {\n",
    "    \"user_id\": int(arr[0]),\n",
    "    \"movie_id\": int(arr[1]),\n",
    "    \"rating\": int(arr[2]),\n",
    "    \"timestamp\": int(arr[3])\n",
    "})\n",
    "data_dict_rdd.take(3)"
   ]
  },
  {
   "cell_type": "markdown",
   "id": "6a62f010",
   "metadata": {},
   "source": [
    "## 4. Convert the RDD objects into DataFrames."
   ]
  },
  {
   "cell_type": "code",
   "execution_count": null,
   "id": "4b9d2f9c",
   "metadata": {},
   "outputs": [
    {
     "name": "stdout",
     "output_type": "stream",
     "text": [
      "+-------+---+------+----------+--------+\n",
      "|user_id|age|gender|occupation|zip_code|\n",
      "+-------+---+------+----------+--------+\n",
      "|      1| 24|     M|technician|   85711|\n",
      "|      2| 53|     F|     other|   94043|\n",
      "|      3| 23|     M|    writer|   32067|\n",
      "|      4| 24|     M|technician|   43537|\n",
      "|      5| 33|     F|     other|   15213|\n",
      "+-------+---+------+----------+--------+\n",
      "only showing top 5 rows\n",
      "\n"
     ]
    }
   ],
   "source": [
    "from pyspark.sql.types import StructType, StructField, IntegerType, StringType\n",
    "\n",
    "user_schema = StructType([\n",
    "    StructField(\"user_id\", IntegerType(), True),\n",
    "    StructField(\"age\", IntegerType(), True),\n",
    "    StructField(\"gender\", StringType(), True),\n",
    "    StructField(\"occupation\", StringType(), True),\n",
    "    StructField(\"zip_code\", StringType(), True)\n",
    "])\n",
    "\n",
    "users_df = spark.createDataFrame(user_dict_rdd, schema=user_schema)\n",
    "users_df.show(5)"
   ]
  },
  {
   "cell_type": "code",
   "execution_count": null,
   "id": "001a722e",
   "metadata": {},
   "outputs": [
    {
     "name": "stdout",
     "output_type": "stream",
     "text": [
      "+--------+-----------------+------------+------------------+------------------------------------------------------+-----------------------------+\n",
      "|movie_id|movie_title      |release_date|video_release_date|IMDb_URL                                              |genres                       |\n",
      "+--------+-----------------+------------+------------------+------------------------------------------------------+-----------------------------+\n",
      "|1       |Toy Story (1995) |01-Jan-1995 |                  |http://us.imdb.com/M/title-exact?Toy%20Story%20(1995) |[Animation, Children, Comedy]|\n",
      "|2       |GoldenEye (1995) |01-Jan-1995 |                  |http://us.imdb.com/M/title-exact?GoldenEye%20(1995)   |[Action, Adventure, Thriller]|\n",
      "|3       |Four Rooms (1995)|01-Jan-1995 |                  |http://us.imdb.com/M/title-exact?Four%20Rooms%20(1995)|[Thriller]                   |\n",
      "|4       |Get Shorty (1995)|01-Jan-1995 |                  |http://us.imdb.com/M/title-exact?Get%20Shorty%20(1995)|[Action, Comedy, Drama]      |\n",
      "|5       |Copycat (1995)   |01-Jan-1995 |                  |http://us.imdb.com/M/title-exact?Copycat%20(1995)     |[Crime, Drama, Thriller]     |\n",
      "+--------+-----------------+------------+------------------+------------------------------------------------------+-----------------------------+\n",
      "only showing top 5 rows\n",
      "\n"
     ]
    }
   ],
   "source": [
    "from pyspark.sql.types import ArrayType, StringType, StructType, StructField, IntegerType\n",
    "\n",
    "item_schema = StructType([\n",
    "    StructField(\"movie_id\", IntegerType(), True),\n",
    "    StructField(\"movie_title\", StringType(), True),\n",
    "    StructField(\"release_date\", StringType(), True),\n",
    "    StructField(\"video_release_date\", StringType(), True),\n",
    "    StructField(\"IMDb_URL\", StringType(), True),\n",
    "    StructField(\"genres\", ArrayType(StringType()), True)\n",
    "])\n",
    "\n",
    "items_df = spark.createDataFrame(item_dict_rdd, schema=item_schema)\n",
    "items_df.show(5, truncate=False)"
   ]
  },
  {
   "cell_type": "code",
   "execution_count": null,
   "id": "e85b8a95",
   "metadata": {},
   "outputs": [
    {
     "name": "stdout",
     "output_type": "stream",
     "text": [
      "+-------+--------+------+---------+\n",
      "|user_id|movie_id|rating|timestamp|\n",
      "+-------+--------+------+---------+\n",
      "|    196|     242|     3|881250949|\n",
      "|    186|     302|     3|891717742|\n",
      "|     22|     377|     1|878887116|\n",
      "|    244|      51|     2|880606923|\n",
      "|    166|     346|     1|886397596|\n",
      "+-------+--------+------+---------+\n",
      "only showing top 5 rows\n",
      "\n"
     ]
    }
   ],
   "source": [
    "data_schema = StructType([\n",
    "    StructField(\"user_id\", IntegerType(), True),\n",
    "    StructField(\"movie_id\", IntegerType(), True),\n",
    "    StructField(\"rating\", IntegerType(), True),\n",
    "    StructField(\"timestamp\", IntegerType(), True)\n",
    "])\n",
    "\n",
    "ratings_df = spark.createDataFrame(data_dict_rdd, schema=data_schema)\n",
    "ratings_df.show(5)"
   ]
  },
  {
   "cell_type": "code",
   "execution_count": null,
   "id": "f16acd93",
   "metadata": {},
   "outputs": [],
   "source": [
    "users_df.createOrReplaceTempView(\"users\")\n",
    "items_df.createOrReplaceTempView(\"items\")\n",
    "ratings_df.createOrReplaceTempView(\"ratings\")"
   ]
  },
  {
   "cell_type": "markdown",
   "id": "efc9b54f",
   "metadata": {},
   "source": [
    "## 5. Write the DataFrame into the Keyspace database"
   ]
  },
  {
   "cell_type": "code",
   "execution_count": null,
   "id": "1092bb2c",
   "metadata": {},
   "outputs": [
    {
     "name": "stdout",
     "output_type": "stream",
     "text": [
      "+-------+---+------+----------+-----+\n",
      "|user_id|age|gender|occupation|  zip|\n",
      "+-------+---+------+----------+-----+\n",
      "|    496| 21|     F|   student|55414|\n",
      "|    250| 29|     M| executive|95110|\n",
      "|    675| 34|     M|     other|28814|\n",
      "|    175| 26|     F| scientist|21911|\n",
      "|    637| 30|     M|     other|74101|\n",
      "+-------+---+------+----------+-----+\n",
      "only showing top 5 rows\n",
      "\n"
     ]
    }
   ],
   "source": [
    "df_check = spark.read \\\n",
    "    .format(\"org.apache.spark.sql.cassandra\") \\\n",
    "    .options(table=\"users\", keyspace=\"movielens\") \\\n",
    "    .load()\n",
    "df_check.show(5)"
   ]
  },
  {
   "cell_type": "code",
   "execution_count": null,
   "id": "8c8b60c9",
   "metadata": {},
   "outputs": [
    {
     "name": "stdout",
     "output_type": "stream",
     "text": [
      "DataFrame[]\n"
     ]
    }
   ],
   "source": [
    "spark.sql(\"CREATE DATABASE IF NOT EXISTS movielens\")"
   ]
  },
  {
   "cell_type": "code",
   "execution_count": null,
   "id": "3cfe9492",
   "metadata": {},
   "outputs": [],
   "source": [
    "users_df.write.mode(\"overwrite\").saveAsTable(\"movielens.users\")\n",
    "items_df.write.mode(\"overwrite\").saveAsTable(\"movielens.items\")\n",
    "ratings_df.write.mode(\"overwrite\").saveAsTable(\"movielens.ratings\")"
   ]
  },
  {
   "cell_type": "code",
   "execution_count": null,
   "id": "3f2e0617",
   "metadata": {},
   "outputs": [
    {
     "name": "stdout",
     "output_type": "stream",
     "text": [
      "+-------+---+------+----------+--------+\n",
      "|user_id|age|gender|occupation|zip_code|\n",
      "+-------+---+------+----------+--------+\n",
      "|    472| 24|     M|   student|   87544|\n",
      "|    473| 29|     M|   student|   94708|\n",
      "|    474| 51|     M| executive|   93711|\n",
      "|    475| 30|     M|programmer|   75230|\n",
      "|    476| 28|     M|   student|   60440|\n",
      "+-------+---+------+----------+--------+\n",
      "\n"
     ]
    }
   ],
   "source": [
    "spark.sql(\"SELECT * FROM movielens.users LIMIT 5\").show()"
   ]
  },
  {
   "cell_type": "markdown",
   "id": "74ed4474",
   "metadata": {},
   "source": [
    "## 6. Read the table back into a new DataFrame."
   ]
  },
  {
   "cell_type": "code",
   "execution_count": null,
   "id": "831c91f8",
   "metadata": {},
   "outputs": [
    {
     "name": "stdout",
     "output_type": "stream",
     "text": [
      "+-------+---+------+----------+-----+\n",
      "|user_id|age|gender|occupation|  zip|\n",
      "+-------+---+------+----------+-----+\n",
      "|    496| 21|     F|   student|55414|\n",
      "|    250| 29|     M| executive|95110|\n",
      "|    675| 34|     M|     other|28814|\n",
      "|    175| 26|     F| scientist|21911|\n",
      "|    637| 30|     M|     other|74101|\n",
      "+-------+---+------+----------+-----+\n",
      "only showing top 5 rows\n",
      "\n"
     ]
    }
   ],
   "source": [
    "# Read users table from Cassandra\n",
    "users_new_df = spark.read \\\n",
    "    .format(\"org.apache.spark.sql.cassandra\") \\\n",
    "    .options(table=\"users\", keyspace=\"movielens\") \\\n",
    "    .load()\n",
    "users_new_df.show(5)\n"
   ]
  },
  {
   "cell_type": "code",
   "execution_count": null,
   "id": "e26c1fc9",
   "metadata": {},
   "outputs": [
    {
     "name": "stdout",
     "output_type": "stream",
     "text": [
      "+-------+---+------+----------+--------+\n",
      "|user_id|age|gender|occupation|zip_code|\n",
      "+-------+---+------+----------+--------+\n",
      "|    472| 24|     M|   student|   87544|\n",
      "|    473| 29|     M|   student|   94708|\n",
      "|    474| 51|     M| executive|   93711|\n",
      "|    475| 30|     M|programmer|   75230|\n",
      "|    476| 28|     M|   student|   60440|\n",
      "+-------+---+------+----------+--------+\n",
      "only showing top 5 rows\n",
      "\n"
     ]
    }
   ],
   "source": [
    "users_new_df = spark.read.table(\"movielens.users\")\n",
    "users_new_df.show(5)"
   ]
  },
  {
   "cell_type": "code",
   "execution_count": null,
   "id": "a89a660c",
   "metadata": {},
   "outputs": [
    {
     "name": "stdout",
     "output_type": "stream",
     "text": [
      "+--------+------------------------+------------+------------------+-----------------------------------------------------------------+-------------------------+\n",
      "|movie_id|movie_title             |release_date|video_release_date|IMDb_URL                                                         |genres                   |\n",
      "+--------+------------------------+------------+------------------+-----------------------------------------------------------------+-------------------------+\n",
      "|839     |Loch Ness (1995)        |01-Jan-1995 |                  |http://us.imdb.com/M/title-exact?Loch%20Ness%20(1995)            |[Horror, Thriller]       |\n",
      "|840     |Last Man Standing (1996)|20-Sep-1996 |                  |http://us.imdb.com/M/title-exact?Last%20Man%20Standing%20(1996/I)|[Action, Drama, Western] |\n",
      "|841     |Glimmer Man, The (1996) |04-Oct-1996 |                  |http://us.imdb.com/M/title-exact?Glimmer%20Man,%20The%20(1996)   |[Action, Thriller]       |\n",
      "|842     |Pollyanna (1960)        |01-Jan-1960 |                  |http://us.imdb.com/M/title-exact?Pollyanna%20(1960)              |[Children, Comedy, Drama]|\n",
      "|843     |Shaggy Dog, The (1959)  |01-Jan-1959 |                  |http://us.imdb.com/M/title-exact?Shaggy%20Dog,%20The%20(1959)    |[Children, Comedy]       |\n",
      "+--------+------------------------+------------+------------------+-----------------------------------------------------------------+-------------------------+\n",
      "only showing top 5 rows\n",
      "\n"
     ]
    }
   ],
   "source": [
    "items_new_df = spark.read.table(\"movielens.items\")\n",
    "items_new_df.show(5, truncate=False)"
   ]
  },
  {
   "cell_type": "code",
   "execution_count": null,
   "id": "964a126a",
   "metadata": {},
   "outputs": [
    {
     "name": "stdout",
     "output_type": "stream",
     "text": [
      "+-------+--------+------+---------+\n",
      "|user_id|movie_id|rating|timestamp|\n",
      "+-------+--------+------+---------+\n",
      "|    196|     242|     3|881250949|\n",
      "|    186|     302|     3|891717742|\n",
      "|     22|     377|     1|878887116|\n",
      "|    244|      51|     2|880606923|\n",
      "|    166|     346|     1|886397596|\n",
      "+-------+--------+------+---------+\n",
      "only showing top 5 rows\n",
      "\n"
     ]
    }
   ],
   "source": [
    "ratings_new_df = spark.read.table(\"movielens.ratings\")\n",
    "ratings_new_df.show(5)"
   ]
  },
  {
   "cell_type": "markdown",
   "id": "5661a8b2",
   "metadata": {},
   "source": [
    "## i) Calculate the Average Rating for Each Movie"
   ]
  },
  {
   "cell_type": "markdown",
   "id": "f83236e4",
   "metadata": {},
   "source": [
    "The main goal of this step is to compute the average rating for every movie in the MovieLens 100K dataset.\n",
    "By doing so, I can understand which movies are generally more popular or appreciated by users, and which ones might have received a less favorable response.\n",
    "To achieve this, I use Spark SQL to join the `ratings` and `items` tables, group the data by `movie_id` and `movie_title`, and compute:\n",
    "- The average user rating for each movie (`AVG(r.rating)`)\n",
    "- The total number of ratings each movie received (`COUNT(*)`)"
   ]
  },
  {
   "cell_type": "code",
   "execution_count": null,
   "id": "51e7f0f1",
   "metadata": {},
   "outputs": [
    {
     "name": "stdout",
     "output_type": "stream",
     "text": [
      "+--------+----------------------------------------------------+------------------+------------+\n",
      "|movie_id|movie_title                                         |avg_rating        |rating_count|\n",
      "+--------+----------------------------------------------------+------------------+------------+\n",
      "|1       |Toy Story (1995)                                    |3.8783185840707963|452         |\n",
      "|2       |GoldenEye (1995)                                    |3.2061068702290076|131         |\n",
      "|3       |Four Rooms (1995)                                   |3.033333333333333 |90          |\n",
      "|4       |Get Shorty (1995)                                   |3.550239234449761 |209         |\n",
      "|5       |Copycat (1995)                                      |3.302325581395349 |86          |\n",
      "|6       |Shanghai Triad (Yao a yao yao dao waipo qiao) (1995)|3.576923076923077 |26          |\n",
      "|7       |Twelve Monkeys (1995)                               |3.798469387755102 |392         |\n",
      "|8       |Babe (1995)                                         |3.9954337899543377|219         |\n",
      "|9       |Dead Man Walking (1995)                             |3.8963210702341136|299         |\n",
      "|10      |Richard III (1995)                                  |3.831460674157303 |89          |\n",
      "+--------+----------------------------------------------------+------------------+------------+\n",
      "only showing top 10 rows\n",
      "\n"
     ]
    }
   ],
   "source": [
    "avg_rating_with_name_df = spark.sql(\"\"\"\n",
    "    SELECT\n",
    "        i.movie_id,\n",
    "        i.movie_title,\n",
    "        AVG(r.rating) AS avg_rating,\n",
    "        COUNT(*) AS rating_count\n",
    "    FROM ratings r\n",
    "    JOIN items i ON r.movie_id = i.movie_id\n",
    "    GROUP BY i.movie_id, i.movie_title\n",
    "    ORDER BY i.movie_id\n",
    "\"\"\")\n",
    "avg_rating_with_name_df.show(10, truncate=False)"
   ]
  },
  {
   "cell_type": "markdown",
   "id": "3b9a7336",
   "metadata": {},
   "source": [
    "For each movie, I group the ratings by the movie ID and movie title. Then calculate the average rating and the total number of ratings for each movie.  \r\n",
    "This allows me to see not only how well a movie is rated on average, but also how many users have contributed to its score.\r\n",
    "\r\n",
    "After running the query, I display the results in a table. This table shows the movie ID, the movie title, the average rating, and the number of ratings for each movie.  "
   ]
  },
  {
   "cell_type": "markdown",
   "id": "fe3ebed4",
   "metadata": {},
   "source": [
    "#### Output Result Analysis\r\n",
    "The table above presents the average rating and the number of ratings for each of the first 10 movies in the dataset.  \r\n",
    "Several insights can be drawn from these results:\r\n",
    "\r\n",
    "- **Most movies have average ratings between 3 and 4**, indicating that user opinions are generally positive.\r\n",
    "- For example, *Toy Story (1995)* has an average rating of 3.88 with 452 ratings, suggesting that it is both popular and well-liked.\r\n",
    "- Movies like *Babe (1995)* and *Dead Man Walking (1995)* also receive high average scores (above 3.9) with a substantial number of ratings.\r\n",
    "- On the other hand, movies such as *Shanghai Triad* have far fewer ratings (only 26), which means their average score may not be as reliable or representative.\r\n",
    "- The **rating_count** column is important: a high average rating with very few votes may not indicate universal appeal, while movies with both a high rating and many ratings are more robustly popular.\r\n",
    "- These statistics provide a good overview of the distribution of movie popularity and user preferences in the dataset, and they serve as a foundation for more advanced analysis such as genre trends or recommendation systems.\r\n"
   ]
  },
  {
   "cell_type": "markdown",
   "id": "69a01691",
   "metadata": {},
   "source": [
    "## ii) Identifying the Top Ten Movies with the Highest Average Ratings"
   ]
  },
  {
   "cell_type": "markdown",
   "id": "0f35b99b",
   "metadata": {},
   "source": [
    "In this step, aiming to find the top ten movies with the highest average ratings.  \n",
    "I use SQL to aggregate the movie ratings data. First, join the `ratings` and `items` tables. The `ratings` table contains user ratings for each movie. The `items` table provides the movie titles and other metadata.\n",
    "\n",
    "Group the data by `movie_id` and `movie_title`. For each group, calculating the average rating and the total number of ratings.  \n",
    "The average rating shows how much users enjoyed a particular movie. The rating count tells me how many users contributed to this score.\n",
    "\n",
    "After grouping and aggregation, sort the movies in descending order by their average rating. Using the `LIMIT 10` clause to select only the top ten movies.  \n",
    "This approach highlights the highest-rated movies in the dataset.\n",
    "\n",
    "It is important to note that I can add an extra filter on the rating count. For example, I might only consider movies that have received at least 50 ratings.  \n",
    "This filter helps to avoid bias from movies with very few but very high ratings. For now, Display the top ten movies based only on their average scores.\n",
    "\n",
    "The output table presents the movie ID, the movie title, the average rating, and the number of ratings for each of the top ten movies.  "
   ]
  },
  {
   "cell_type": "code",
   "execution_count": null,
   "id": "ed5c807e",
   "metadata": {},
   "outputs": [
    {
     "name": "stdout",
     "output_type": "stream",
     "text": [
      "+--------+------------------------------------------------------+------------------+------------+\n",
      "|movie_id|movie_title                                           |avg_rating        |rating_count|\n",
      "+--------+------------------------------------------------------+------------------+------------+\n",
      "|408     |Close Shave, A (1995)                                 |4.491071428571429 |112         |\n",
      "|318     |Schindler's List (1993)                               |4.466442953020135 |298         |\n",
      "|169     |Wrong Trousers, The (1993)                            |4.466101694915254 |118         |\n",
      "|483     |Casablanca (1942)                                     |4.45679012345679  |243         |\n",
      "|114     |Wallace & Gromit: The Best of Aardman Animation (1996)|4.447761194029851 |67          |\n",
      "|64      |Shawshank Redemption, The (1994)                      |4.445229681978798 |283         |\n",
      "|603     |Rear Window (1954)                                    |4.3875598086124405|209         |\n",
      "|12      |Usual Suspects, The (1995)                            |4.385767790262173 |267         |\n",
      "|50      |Star Wars (1977)                                      |4.3584905660377355|583         |\n",
      "|178     |12 Angry Men (1957)                                   |4.344             |125         |\n",
      "+--------+------------------------------------------------------+------------------+------------+\n",
      "\n"
     ]
    }
   ],
   "source": [
    "top10_movies_df = spark.sql(\"\"\"\n",
    "    SELECT\n",
    "        i.movie_id,\n",
    "        i.movie_title,\n",
    "        AVG(r.rating) AS avg_rating,\n",
    "        COUNT(*) AS rating_count\n",
    "    FROM ratings r\n",
    "    JOIN items i ON r.movie_id = i.movie_id\n",
    "    GROUP BY i.movie_id, i.movie_title\n",
    "    HAVING rating_count >= 50\n",
    "    ORDER BY avg_rating DESC, rating_count DESC\n",
    "    LIMIT 10\n",
    "\"\"\")\n",
    "top10_movies_df.show(truncate=False)"
   ]
  },
  {
   "cell_type": "markdown",
   "id": "0c7ec451",
   "metadata": {},
   "source": [
    "#### Output Result Analysis\r\n",
    "\r\n",
    "The table above lists the top ten movies with the highest average ratings, considering only movies that have received at least 50 user ratings.  \r\n",
    "This approach ensures that the results are reliable and not skewed by movies with just a handful of votes.\r\n",
    "\r\n",
    "- All of the listed movies have average ratings above 4.3, which means they are highly appreciated by users.\r\n",
    "- Classics such as *Schindler's List (1993)*, *Rear Window (1954)*, and *Casablanca (1942)* appear among the top performers, reflecting their strong reputation and lasting appeal.\r\n",
    "- Animation and family-friendly titles like *Wallace & Gromit: The Best of Aardman Animation (1996)* and *Wrong Trousers, The (1993)* are also highly rated, suggesting that well-made animated films are well received by the user community.\r\n",
    "- *Shawshank Redemption, The (1994)* and *Star Wars (1977)* are both widely known and maintain extremely high average ratings with a large number of ratings (over 280 and 580 respectively), which demonstrates robust and broad-based popularity.\r\n",
    "- The **rating_count** column shows that all these movies have a substantial number of ratings, making the averages meaningful and reliable."
   ]
  },
  {
   "cell_type": "markdown",
   "id": "6e5726c8",
   "metadata": {},
   "source": [
    "## iii) Find the users who have rated at least 50 movies and identify their favourite movie genres"
   ]
  },
  {
   "cell_type": "markdown",
   "id": "558d8d10",
   "metadata": {},
   "source": [
    "This analysis focuses on users who have demonstrated a high level of activity by rating at least 50 movies.  \n",
    "The results are shown in several steps:\n",
    "\n",
    "- First, I identified the most active users by grouping ratings by user ID and counting the number of movies each user rated. Only users with at least 50 ratings were included in the next step.\n",
    "- Then, I counted, for each active user, how many movies they rated in each of the 19 available genres. This produced a wide table, where each row corresponds to a user and each column (after user ID) gives the count of ratings for one genre.\n",
    "- Finally, I determined each user's favourite genre by finding which genre they had rated the most movies in. If a user had a tie for most-rated genres, all such genres were shown."
   ]
  },
  {
   "cell_type": "markdown",
   "id": "26559917",
   "metadata": {},
   "source": [
    "### Find users with ≥50 ratings"
   ]
  },
  {
   "cell_type": "code",
   "execution_count": null,
   "id": "f3590db8",
   "metadata": {},
   "outputs": [
    {
     "name": "stdout",
     "output_type": "stream",
     "text": [
      "+-------+----------------+\n",
      "|user_id|num_rated_movies|\n",
      "+-------+----------------+\n",
      "|    186|              92|\n",
      "|    299|             280|\n",
      "|     38|             121|\n",
      "|    157|              51|\n",
      "|     13|             636|\n",
      "|    198|             181|\n",
      "|     18|             277|\n",
      "|    232|              93|\n",
      "|    161|              58|\n",
      "|    148|              65|\n",
      "+-------+----------------+\n",
      "only showing top 10 rows\n",
      "\n"
     ]
    }
   ],
   "source": [
    "active_users_df = spark.sql(\"\"\"\n",
    "    SELECT\n",
    "        user_id,\n",
    "        COUNT(*) AS num_rated_movies\n",
    "    FROM ratings\n",
    "    GROUP BY user_id\n",
    "    HAVING num_rated_movies >= 50\n",
    "\"\"\")\n",
    "active_users_df.createOrReplaceTempView(\"active_users\")\n",
    "active_users_df.show(10)"
   ]
  },
  {
   "cell_type": "markdown",
   "id": "873866ce",
   "metadata": {},
   "source": [
    "### The number of movie ratings per genre by each active user"
   ]
  },
  {
   "cell_type": "code",
   "execution_count": null,
   "id": "83c1b9a6",
   "metadata": {},
   "outputs": [
    {
     "name": "stdout",
     "output_type": "stream",
     "text": [
      "+-------+-------+------+---------+---------+--------+------+-----+-----------+-----+-------+---------+------+-------+-------+-------+------+--------+---+-------+\n",
      "|user_id|unknown|Action|Adventure|Animation|Children|Comedy|Crime|Documentary|Drama|Fantasy|Film-Noir|Horror|Musical|Mystery|Romance|Sci-Fi|Thriller|War|Western|\n",
      "+-------+-------+------+---------+---------+--------+------+-----+-----------+-----+-------+---------+------+-------+-------+-------+------+--------+---+-------+\n",
      "|     12|      0|    14|        7|        1|       3|    13|    2|          0|   24|      0|        0|     1|      3|      3|     13|     7|      12|  7|      2|\n",
      "|     13|      0|   156|       73|       16|      52|   188|   45|         13|  218|     12|       14|    75|     31|     33|    105|    65|     121| 41|     13|\n",
      "|     14|      0|    18|       14|        6|       6|    35|    6|          2|   39|      1|        3|     1|      5|      6|     21|    13|      13| 10|      1|\n",
      "|     18|      0|    25|       18|       12|      19|   102|   12|          4|  141|      4|        4|     5|     24|      9|     68|    15|      23| 27|      4|\n",
      "|     38|      0|    32|       23|       10|      30|    43|    2|          0|   24|      3|        1|    18|     12|      3|     18|    15|      24|  7|      1|\n",
      "|     70|      0|    48|       37|       22|      34|    42|    5|          2|   28|      6|        1|     7|     21|      4|     20|    34|      21| 11|      0|\n",
      "|    148|      0|    12|       15|       14|      15|    20|    3|          0|   25|      0|        1|     2|     11|      2|      9|    13|       5| 10|      1|\n",
      "|    157|      0|    18|        5|        1|       1|    18|    5|          0|   21|      0|        0|     0|      1|      1|     13|     5|      12|  4|      0|\n",
      "|    161|      0|    13|        7|        1|       4|    18|    6|          1|   31|      0|        1|     0|      3|      3|     17|     5|       7|  8|      2|\n",
      "|    186|      0|    30|       13|        5|      10|    13|   13|          0|   25|      2|        3|     2|      4|     10|      7|     7|      51|  2|      3|\n",
      "+-------+-------+------+---------+---------+--------+------+-----+-----------+-----+-------+---------+------+-------+-------+-------+------+--------+---+-------+\n",
      "only showing top 10 rows\n",
      "\n"
     ]
    }
   ],
   "source": [
    "\n",
    "genres = [\n",
    "    \"unknown\", \"Action\", \"Adventure\", \"Animation\", \"Children\", \"Comedy\", \"Crime\",\n",
    "    \"Documentary\", \"Drama\", \"Fantasy\", \"Film-Noir\", \"Horror\", \"Musical\", \"Mystery\",\n",
    "    \"Romance\", \"Sci-Fi\", \"Thriller\", \"War\", \"Western\"\n",
    "]\n",
    "\n",
    "genre_sum_expr = ',\\n    '.join([\n",
    "    \"SUM(CAST(array_contains(i.genres, '{0}') AS INT)) AS `{0}`\".format(genre)\n",
    "    for genre in genres\n",
    "])\n",
    "\n",
    "sql_query = \"\"\"\n",
    "SELECT\n",
    "    r.user_id,\n",
    "    {genre_sum}\n",
    "FROM ratings r\n",
    "JOIN items i ON r.movie_id = i.movie_id\n",
    "JOIN active_users u ON r.user_id = u.user_id\n",
    "GROUP BY r.user_id\n",
    "\"\"\".format(genre_sum=genre_sum_expr)\n",
    "\n",
    "user_genre_count_df = spark.sql(sql_query)\n",
    "user_genre_count_df.createOrReplaceTempView(\"user_genre_count\")\n",
    "user_genre_count_df.show(10)"
   ]
  },
  {
   "cell_type": "markdown",
   "id": "af1644c5",
   "metadata": {},
   "source": [
    "### Find out each user's favorite movie genre"
   ]
  },
  {
   "cell_type": "code",
   "execution_count": null,
   "id": "03d319a3",
   "metadata": {},
   "outputs": [],
   "source": [
    "from pyspark.sql.types import StringType, IntegerType\n",
    "from pyspark.sql.functions import udf"
   ]
  },
  {
   "cell_type": "code",
   "execution_count": null,
   "id": "275ea669",
   "metadata": {},
   "outputs": [],
   "source": [
    "genres=[\n",
    "    \"unknown\", \"Action\", \"Adventure\", \"Animation\", \"Children\", \"Comedy\",\n",
    "    \"Crime\", \"Documentary\", \"Drama\", \"Fantasy\", \"Film-Noir\", \"Horror\",\n",
    "    \"Musical\", \"Mystery\", \"Romance\", \"Sci-Fi\", \"Thriller\", \"War\", \"Western\"]"
   ]
  },
  {
   "cell_type": "code",
   "execution_count": null,
   "id": "0f67a885",
   "metadata": {},
   "outputs": [],
   "source": [
    "def fav_genre_and_count(*cols):\n",
    "    # cols: 19 types of ratings\n",
    "    counts = list(cols)\n",
    "    max_count = max(counts)\n",
    "    favs = [genres[i] for i, v in enumerate(counts) if v == max_count]\n",
    "    return \",\".join(favs)\n",
    "\n",
    "fav_genre_udf = udf(fav_genre_and_count, StringType())"
   ]
  },
  {
   "cell_type": "code",
   "execution_count": null,
   "id": "22344d8c",
   "metadata": {},
   "outputs": [],
   "source": [
    "# Pass the 19 fields into the udf one by one\n",
    "user_genre_count_df = user_genre_count_df.withColumn(\n",
    "    \"fav_genre\",\n",
    "    fav_genre_udf(*[user_genre_count_df[g] for g in genres]))"
   ]
  },
  {
   "cell_type": "code",
   "execution_count": null,
   "id": "55bb4d0d",
   "metadata": {},
   "outputs": [],
   "source": [
    "# output max_count\n",
    "def max_count_only(*cols):\n",
    "    return int(max(list(cols)))\n",
    "max_count_udf = udf(max_count_only, IntegerType())\n",
    "user_genre_count_df = user_genre_count_df.withColumn(\n",
    "    \"max_count\",\n",
    "    max_count_udf(*[user_genre_count_df[g] for g in genres]))"
   ]
  },
  {
   "cell_type": "code",
   "execution_count": null,
   "id": "6bae8eee",
   "metadata": {},
   "outputs": [
    {
     "name": "stdout",
     "output_type": "stream",
     "text": [
      "+-------+---------+---------+\n",
      "|user_id|fav_genre|max_count|\n",
      "+-------+---------+---------+\n",
      "|12     |Drama    |24       |\n",
      "|13     |Drama    |218      |\n",
      "|14     |Drama    |39       |\n",
      "|18     |Drama    |141      |\n",
      "|38     |Comedy   |43       |\n",
      "|70     |Action   |48       |\n",
      "|148    |Drama    |25       |\n",
      "|157    |Drama    |21       |\n",
      "|161    |Drama    |31       |\n",
      "|186    |Thriller |51       |\n",
      "+-------+---------+---------+\n",
      "only showing top 10 rows\n",
      "\n"
     ]
    }
   ],
   "source": [
    "# Display results\n",
    "user_genre_count_df.select(\"user_id\", \"fav_genre\", \"max_count\").show(10, truncate=False)"
   ]
  },
  {
   "cell_type": "markdown",
   "id": "c1f5627d",
   "metadata": {},
   "source": [
    "#### Output Result Analysis\r\n",
    "\r\n",
    "- Most active users tend to have a clear favourite genre, as seen by the \"fav_genre\" column in the last table.\r\n",
    "- For example, user 148 rated 65 movies in total, and their most rated genre is \"Drama\" with 25 ratings. Similarly, users 463, 496, and 833 also have \"Drama\" as their favourite genre.\r\n",
    "- The most popular genre among the top active users is \"Drama\", but there are also cases where \"Action\" is the favourite.\r\n",
    "- The \"max_count\" column quantifies just how focused a user is on their favourite genre. For example, user 85 has rated 288 movies in total, and 152 of these were dramas, indicating a strong personal preference.\r\n",
    "- This information provides insight into user preferences, and can be useful for personalized recommendations, marketing strategies, or understanding trends within the user community."
   ]
  },
  {
   "cell_type": "markdown",
   "id": "cf19a7da",
   "metadata": {},
   "source": [
    "## iv) Find all the users who are less than 20 years old"
   ]
  },
  {
   "cell_type": "markdown",
   "id": "255669ee",
   "metadata": {},
   "source": [
    "In this part of the analysis, I focus on identifying the youngest users in the MovieLens 100k dataset.  \r\n",
    "Age is an important demographic factor that can influence movie preferences and behavior on the platform.  \r\n",
    "By selecting all users who are less than 20 years old, I can better understand the composition and characteristics of the teenage user group.\r\n",
    "\r\n",
    "This information provides a basis for further exploration, such as comparing the preferences of younger users to those of older ones, or designing age-specific recommendation systems.  \r\n",
    "Below, I use SQL queries in Spark to extract and summarize the relevant data for this age group."
   ]
  },
  {
   "cell_type": "markdown",
   "id": "9a015fe1",
   "metadata": {},
   "source": [
    "### Use SQL to query all users under 20 years old"
   ]
  },
  {
   "cell_type": "code",
   "execution_count": null,
   "id": "9d10320a",
   "metadata": {},
   "outputs": [
    {
     "name": "stdout",
     "output_type": "stream",
     "text": [
      "+-------+---+------+-------------+--------+\n",
      "|user_id|age|gender|occupation   |zip_code|\n",
      "+-------+---+------+-------------+--------+\n",
      "|30     |7  |M     |student      |55436   |\n",
      "|36     |19 |F     |student      |93117   |\n",
      "|52     |18 |F     |student      |55105   |\n",
      "|57     |16 |M     |none         |84010   |\n",
      "|67     |17 |M     |student      |60402   |\n",
      "|68     |19 |M     |student      |22904   |\n",
      "|101    |15 |M     |student      |05146   |\n",
      "|110    |19 |M     |student      |77840   |\n",
      "|142    |13 |M     |other        |48118   |\n",
      "|179    |15 |M     |entertainment|20755   |\n",
      "+-------+---+------+-------------+--------+\n",
      "only showing top 10 rows\n",
      "\n"
     ]
    }
   ],
   "source": [
    "users_under_20_df = spark.sql(\"\"\"\n",
    "    SELECT *\n",
    "    FROM users\n",
    "    WHERE age < 20\n",
    "\"\"\")\n",
    "users_under_20_df.show(10, truncate=False)"
   ]
  },
  {
   "cell_type": "markdown",
   "id": "fade77dd",
   "metadata": {},
   "source": [
    "### Statistics on gender and occupation distribution of users under 20 years old"
   ]
  },
  {
   "cell_type": "code",
   "execution_count": null,
   "id": "e65d2682",
   "metadata": {},
   "outputs": [
    {
     "name": "stdout",
     "output_type": "stream",
     "text": [
      "+------+-------------+---+\n",
      "|gender|occupation   |cnt|\n",
      "+------+-------------+---+\n",
      "|M     |student      |37 |\n",
      "|F     |student      |27 |\n",
      "|M     |other        |3  |\n",
      "|M     |none         |3  |\n",
      "|M     |entertainment|2  |\n",
      "|F     |writer       |2  |\n",
      "|F     |artist       |1  |\n",
      "|F     |salesman     |1  |\n",
      "|F     |other        |1  |\n",
      "+------+-------------+---+\n",
      "\n"
     ]
    }
   ],
   "source": [
    "spark.sql(\"\"\"\n",
    "    SELECT gender, occupation, COUNT(*) AS cnt\n",
    "    FROM users\n",
    "    WHERE age < 20\n",
    "    GROUP BY gender, occupation\n",
    "    ORDER BY cnt DESC\n",
    "\"\"\").show(truncate=False)"
   ]
  },
  {
   "cell_type": "markdown",
   "id": "8b77a7c7",
   "metadata": {},
   "source": [
    "#### Output Result Analysis\r\n",
    "\r\n",
    "In this step, I selected all users whose age is less than 20 years old from the user dataset.  \r\n",
    "The resulting table lists basic demographic information for each user, including user ID, age, gender, occupation, and zip code.\r\n",
    "\r\n",
    "- The data show that most users under 20 are students, which matches expectations for this age group.\r\n",
    "- There is a mix of male and female users, and both are well represented among the student population.\r\n",
    "- A few users report occupations other than student, such as \"entertainment,\" \"writer,\" \"artist,\" or \"salesman.\" There are also cases where the occupation is missing (\"none\"), which might indicate incomplete user profiles.\r\n",
    "- The age distribution in the sample covers teenagers (as young as 13) up to young adults just under 20.\r\n",
    "- The results provide insight into the makeup of the youngest segment of MovieLens users, who may have different movie preferences and viewing habits compared to older users.\r\n",
    "\r\n",
    "The aggregated statistics further show that the most common group is male students (37 users), followed by female students (27 users).  \r\n",
    "There are only a few users in other occupational categories. This highlights that the majority of very young users in this dataset are still in school."
   ]
  },
  {
   "cell_type": "markdown",
   "id": "493dbba6",
   "metadata": {},
   "source": [
    "## v) Find all the users whose occupation is “scientist” and whose age is between 30 and 40 years old."
   ]
  },
  {
   "cell_type": "markdown",
   "id": "72669399",
   "metadata": {},
   "source": [
    "In this step, I focus on filtering the user data to find a specific subgroup.  \r\n",
    "My goal is to select all users whose occupation is listed as \"scientist\" and whose age falls between 30 and 40 years old.  \r\n",
    "To accomplish this, I use an SQL query on the `users` table.  \r\n",
    "This approach enables me to precisely identify users who meet both conditions, which is valuable for targeted demographic analysis or downstream recommendation tasks.\r\n",
    "\r\n",
    "After running the SQL query, I review the filtered results and count how many users match these criteria.  "
   ]
  },
  {
   "cell_type": "markdown",
   "id": "331c8d0b",
   "metadata": {},
   "source": [
    "### Use SQL to filter"
   ]
  },
  {
   "cell_type": "code",
   "execution_count": null,
   "id": "13fea775",
   "metadata": {},
   "outputs": [
    {
     "name": "stdout",
     "output_type": "stream",
     "text": [
      "+-------+---+------+----------+--------+\n",
      "|user_id|age|gender|occupation|zip_code|\n",
      "+-------+---+------+----------+--------+\n",
      "|40     |38 |M     |scientist |27514   |\n",
      "|71     |39 |M     |scientist |98034   |\n",
      "|74     |39 |M     |scientist |T8H1N   |\n",
      "|107    |39 |M     |scientist |60466   |\n",
      "|183    |33 |M     |scientist |27708   |\n",
      "|272    |33 |M     |scientist |53706   |\n",
      "|309    |40 |M     |scientist |70802   |\n",
      "|337    |37 |M     |scientist |10522   |\n",
      "|430    |38 |M     |scientist |98199   |\n",
      "|538    |31 |M     |scientist |21010   |\n",
      "+-------+---+------+----------+--------+\n",
      "only showing top 10 rows\n",
      "\n"
     ]
    }
   ],
   "source": [
    "scientists_30_40_df = spark.sql(\"\"\"\n",
    "    SELECT *\n",
    "    FROM users\n",
    "    WHERE occupation = 'scientist' AND age BETWEEN 30 AND 40\n",
    "\"\"\")\n",
    "scientists_30_40_df.show(10, truncate=False)"
   ]
  },
  {
   "cell_type": "markdown",
   "id": "c6b84bd9",
   "metadata": {},
   "source": [
    "### Count"
   ]
  },
  {
   "cell_type": "code",
   "execution_count": null,
   "id": "beeea69e",
   "metadata": {},
   "outputs": [
    {
     "name": "stdout",
     "output_type": "stream",
     "text": [
      "Number of scientists aged 30 to 40: 16\n"
     ]
    }
   ],
   "source": [
    "count = scientists_30_40_df.count()\n",
    "print(\"Number of scientists aged 30 to 40: \" + str(count))"
   ]
  },
  {
   "cell_type": "markdown",
   "id": "c13ec43a",
   "metadata": {},
   "source": [
    "The results show that there are **16 users** who satisfy both conditions.  \n",
    "These users have user IDs such as 40, 74, 71, 107, 183, and others.  \n",
    "All of them are male, as indicated by the gender column.  \n",
    "Their zip codes are distributed across different regions, suggesting a certain level of geographic diversity even within this small professional and age-specific group."
   ]
  },
  {
   "cell_type": "markdown",
   "id": "8fc097f8",
   "metadata": {},
   "source": [
    "## Insights and Explanations\r\n",
    "\r\n",
    "This section provides a detailed summary of the main findings and analytical reasoning throughout the MovieLens 100k dataset exploration. Each analysis step yields important insights about user behavior and movie characteristics.\r\n",
    "\r\n",
    "---\r\n",
    "\r\n",
    "### 1. Calculating the Average Rating for Each Movie\r\n",
    "\r\n",
    "By aggregating ratings across all users, I calculated the average rating and the total number of ratings for each movie.  \r\n",
    "This process gives a clear picture of which movies are consistently favored or disfavored by the user base.  \r\n",
    "Movies with a high number of ratings and a stable average rating are likely to have broad appeal or cultural significance.  \r\n",
    "Conversely, movies with fewer ratings may represent niche interests or less popular genres.\r\n",
    "\r\n",
    "---\r\n",
    "\r\n",
    "### 2. Identifying the Top Ten Movies with the Highest Average Ratings\r\n",
    "\r\n",
    "Focusing on movies with at least 50 ratings, I identified the top ten movies with the highest average scores.  \r\n",
    "This threshold ensures the rankings are not biased by a small number of extreme ratings.  \r\n",
    "Most top-ranked movies are either highly acclaimed classics or widely recognized by audiences.  \r\n",
    "This finding demonstrates that collective user ratings can reliably highlight high-quality or iconic films.\r\n",
    "\r\n",
    "---\r\n",
    "\r\n",
    "### 3. Active Users and Their Favourite Genres\r\n",
    "\r\n",
    "I filtered users who have rated at least 50 movies, labeling them as active or highly engaged users.  \r\n",
    "For each of these users, I counted the number of ratings they gave in each genre, and then determined their most frequently rated (favourite) genre.\r\n",
    "\r\n",
    "Insights include:\r\n",
    "- Many active users consistently favor a specific genre, such as \"Drama\" or \"Action\".\r\n",
    "- Some users have diverse interests, but still show a clear genre preference.\r\n",
    "- The distribution of favorite genres among active users reflects overall audience tastes and possible trends in movie popularity.\r\n",
    "\r\n",
    "---\r\n",
    "\r\n",
    "### 4. Users Less Than 20 Years Old\r\n",
    "\r\n",
    "By selecting users under the age of 20, I explored the demographic composition and behaviors of the youngest segment of the dataset.  \r\n",
    "Most of these young users are students, with a relatively balanced distribution of genders.  \r\n",
    "Understanding the preferences and activities of this age group can help with targeted recommendations or youth-focused analyses.\r\n",
    "\r\n",
    "---\r\n",
    "\r\n",
    "### 5. Users Who Are Scientists Aged 30-40\r\n",
    "\r\n",
    "I applied a combined filter on both occupation and age to identify all users listed as \"scientist\" and aged between 30 and 40.  \r\n",
    "This targeted filtering uncovers a specific professional demographic within the user base.  \r\n",
    "Although only a small number of users meet these criteria, such focused subgroup analyses can be valuable for custom marketing strategies or understanding niche user groups.\r\n",
    "\r\n",
    "---\r\n",
    "\r\n",
    "### General Observations\r\n",
    "\r\n",
    "- The MovieLens dataset contains a diverse set of users with varied demographic backgrounds and movie preferences.\r\n",
    "- SQL and Spark operations enable powerful filtering and aggregation, making it possible to answer both broad and highly specific analytical questions.\r\n",
    "- By combining multiple filters (such as age, occupation, and activity level), I can perform in-depth segmentation to support recommendations, marketing, or sociological research.\r\n",
    "- Overall, data-driven exploration of movie ratings and user information reveals patterns in collective opinion, individual tastes, and demographic behaviors.\r\n",
    "\r\n"
   ]
  },
  {
   "cell_type": "markdown",
   "id": "a8aac4b7",
   "metadata": {},
   "source": [
    "## Recommendations\n",
    "\n",
    "Based on the analysis of the MovieLens 100k dataset and the key insights obtained from each step, I propose the following recommendations for future work, platform design, and research directions:\n",
    "\n",
    "---\n",
    "\n",
    "### 1. Improve Recommendation Systems with Popularity and Stability\n",
    "\n",
    "Since movies with a high number of ratings and a stable average score generally reflect broad audience appeal, I recommend giving these movies more weight in collaborative filtering and popularity-based recommendation algorithms.  \n",
    "Additionally, highlighting consistently popular movies can increase user satisfaction, especially for new or undecided users.\n",
    "\n",
    "---\n",
    "\n",
    "### 2. Adjust Genre Recommendations According to User Activity\n",
    "\n",
    "The analysis shows that highly active users tend to have clear genre preferences.  \n",
    "I recommend personalizing genre-based recommendations for these users, prioritizing their most frequently rated genres.  \n",
    "For less active users, a diverse mix of genres may help them discover their specific interests.\n",
    "\n",
    "---\n",
    "\n",
    "### 3. Create Demographic-Specific Features and Marketing\n",
    "\n",
    "Given the significant presence of young users (especially students under 20), I suggest developing youth-oriented features or movie collections (e.g., \"Top Picks for Students\" or \"Movies for Young Audiences\").  \n",
    "Similarly, targeting users based on occupation (such as scientists or other professionals) can support niche content curation and specialized marketing campaigns.\n",
    "\n",
    "---\n",
    "\n",
    "### 4. Encourage Engagement among Inactive or New Users\n",
    "\n",
    "Most high-engagement users contribute significantly to rating diversity and overall platform activity.  \n",
    "To cultivate more active users, I recommend providing incentives for rating more movies, such as gamified achievements, badges, or personalized rewards for users who reach certain rating milestones.\n",
    "\n",
    "---\n",
    "\n",
    "### 5. Ensure Fairness in Ratings and Rankings\n",
    "\n",
    "To avoid biases caused by a small number of ratings, always apply a minimum rating count threshold when displaying average scores or generating \"top movie\" lists.  \n",
    "This approach ensures fairer and more reliable recommendations.\n",
    "\n",
    "---\n",
    "\n",
    "### 6. Enable Deeper User Segmentation for Advanced Analytics\n",
    "\n",
    "The ability to filter by age, occupation, and other user attributes is powerful for research and platform optimization.  \n",
    "I recommend maintaining and possibly expanding user profile fields, enabling even finer segmentation and targeted feature development in the future.\n",
    "\n",
    "---\n",
    "\n",
    "### 7. Continue Data Quality Checks and Enrichment\n",
    "\n",
    "The analysis relies on the completeness and accuracy of user and movie metadata.  \n",
    "I recommend routine data quality audits and, if possible, enriching the dataset with additional information such as more detailed genre tags, user watch history, or explicit feedback on recommendations.\n",
    "\n",
    "---\n",
    "\n",
    "**Summary:**  \n",
    "Implementing these recommendations can improve the user experience, increase engagement, and allow for more precise movie suggestions and platform growth. Continuous data analysis should be a standard practice to adapt to evolving user interests and behaviors.\n"
   ]
  },
  {
   "cell_type": "markdown",
   "id": "f86422ef",
   "metadata": {},
   "source": [
    "## Conclusion\r\n",
    "\r\n",
    "In this project, I carried out a comprehensive analysis of the MovieLens 100k dataset using Spark SQL and PySpark DataFrame operations. My workflow covered every key stage, including data ingestion, schema definition, RDD and DataFrame transformations, and the application of advanced query logic. Throughout the process, I examined the characteristics of both movies and users in detail, deriving valuable insights for platform optimization and recommendation strategies.\r\n",
    "\r\n",
    "---\r\n",
    "\r\n",
    "### Key Findings\r\n",
    "\r\n",
    "- **Movie Ratings:**  \r\n",
    "  I successfully calculated the average rating for each movie, revealing both overall audience sentiment and the reliability of ratings based on rating count.\r\n",
    "\r\n",
    "- **Top Rated Movies:**  \r\n",
    "  By identifying the ten movies with the highest average ratings (with sufficient rating counts), I showed which titles are most appreciated by the community. This method also demonstrated the importance of accounting for popularity alongside rating averages.\r\n",
    "\r\n",
    "- **User Activity & Genre Preference:**  \r\n",
    "  I found that highly active users (those who have rated at least 50 movies) tend to show clear genre preferences. Most frequently, genres like \"Drama\" and \"Action\" stood out among top contributors, highlighting opportunities for more personalized recommendations.\r\n",
    "\r\n",
    "- **User Demographics:**  \r\n",
    "  My analysis of age and occupation revealed that a significant portion of the platform’s users are young, with students under 20 making up a considerable group. I also filtered out niche groups, such as scientists aged 30–40, to demonstrate how user segmentation can inform targeted marketing and content curation.\r\n",
    "\r\n",
    "---\r\n",
    "\r\n",
    "### Analytical Strengths\r\n",
    "\r\n",
    "- The pipeline utilized PySpark’s distributed computing capabilities, enabling efficient processing of large datasets.\r\n",
    "- I made use of both SQL and DataFrame APIs, allowing for flexible, powerful data exploration and transformation.\r\n",
    "- Each major step included data validation and summary statistics, ensuring reliable interpretations and actionable insights.\r\n",
    "\r\n",
    "---\r\n",
    "\r\n",
    "### Final Thoughts\r\n",
    "\r\n",
    "This end-to-end workflow demonstrates how big data technologies can unlock actionable knowledge from real-world user behavior and preferences.  \r\n",
    "By systematically analyzing both movies and user groups, I have established a robust framework for data-driven improvements to recommendation platforms.  \r\n",
    "Continuous analysis and iteration will be essential as audience interests evolve and as more data becomes available."
   ]
  },
  {
   "cell_type": "markdown",
   "id": "d965492e",
   "metadata": {},
   "source": []
  }
 ],
 "metadata": {
  "kernelspec": {
   "display_name": "Python 3 (ipykernel)",
   "language": "python",
   "name": "python3"
  },
  "language_info": {
   "codemirror_mode": {
    "name": "ipython",
    "version": 3
   },
   "file_extension": ".py",
   "mimetype": "text/x-python",
   "name": "python",
   "nbconvert_exporter": "python",
   "pygments_lexer": "ipython3",
   "version": "3.12.3"
  }
 },
 "nbformat": 4,
 "nbformat_minor": 5
}
